{
 "cells": [
  {
   "cell_type": "code",
   "execution_count": 1,
   "metadata": {},
   "outputs": [],
   "source": [
    "# Import those libraries\n",
    "import pandas as pd\n",
    "from scipy.stats import pearsonr\n",
    "import numpy as np\n",
    "\n",
    "for segment in range(1,15):\n",
    "    df = pd.read_csv(f\"233_part_{segment}.csv\")\n",
    "\n",
    "    corr = np.zeros((df.columns.size, df.columns.size))\n",
    "\n",
    "    for i in range(0,df.columns.size):\n",
    "        for j in range(0,df.columns.size):\n",
    "            if i != j:\n",
    "                list1 = df[df.columns[i]]\n",
    "                list2 = df[df.columns[j]]\n",
    "                corr[i][j], _ = pearsonr(list1, list2)\n",
    "\n",
    "    corr = pd.DataFrame(corr, columns=df.columns, index=df.columns)\n",
    "    corr.to_csv(f\"233_correlation_matrix_{segment}.csv\")"
   ]
  },
  {
   "cell_type": "code",
   "execution_count": null,
   "metadata": {},
   "outputs": [],
   "source": []
  }
 ],
 "metadata": {
  "kernelspec": {
   "display_name": "Python 3",
   "language": "python",
   "name": "python3"
  },
  "language_info": {
   "codemirror_mode": {
    "name": "ipython",
    "version": 3
   },
   "file_extension": ".py",
   "mimetype": "text/x-python",
   "name": "python",
   "nbconvert_exporter": "python",
   "pygments_lexer": "ipython3",
   "version": "3.11.9"
  }
 },
 "nbformat": 4,
 "nbformat_minor": 2
}
